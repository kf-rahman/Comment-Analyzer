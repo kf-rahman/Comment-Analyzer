{
 "cells": [
  {
   "cell_type": "code",
   "execution_count": null,
   "metadata": {},
   "outputs": [],
   "source": [
    "import nltk\n",
    "from nltk import sent_tokenize, word_tokenize\n",
    "import selenium \n",
    "from selenium.webdriver.common.keys import Keys\n",
    "from selenium import webdriver\n",
    "import time"
   ]
  },
  {
   "cell_type": "code",
   "execution_count": null,
   "metadata": {},
   "outputs": [],
   "source": [
    "#Notes on NLTk\n",
    "\n",
    "'''\n",
    "tokenizing-> words tokenizers(separates by word)...sentence tokenizers(separates by sentences)\n",
    "lexicon and corporas\n",
    "corpora -> body of text. ex: medical journals, presidential speeches\n",
    "lexicon -> words and their meaning, basically a dictionary\n",
    "'''"
   ]
  },
  {
   "cell_type": "code",
   "execution_count": null,
   "metadata": {},
   "outputs": [],
   "source": [
    "\n",
    "PATH = \"C:\\Program Files (x86)\\chromedriver.exe\"\n",
    "driver = webdriver.Chrome(PATH)\n",
    "driver.get(\"https://www.amazon.ca/\")"
   ]
  },
  {
   "cell_type": "code",
   "execution_count": null,
   "metadata": {},
   "outputs": [],
   "source": [
    "search = driver.find_element_by_name('field-keywords')\n",
    "search.clear()\n",
    "search.send_keys(\"microwave\")\n",
    "search.send_keys(Keys.RETURN)\n",
    "\n",
    "Amazon_choice = driver.find_element_by_class_name('a-badge')\n",
    "Amazon_choice.click()\n",
    "\n",
    "\n",
    "reviews = driver.find_element_by_link_text('See all reviews')\n",
    "reviews.click()\n",
    "\n",
    "reviews2 = driver.find_element_by_id('cm_cr-review_list')\n",
    "print(sent_tokenize(reviews2))\n",
    "\n"
   ]
  },
  {
   "cell_type": "code",
   "execution_count": null,
   "metadata": {},
   "outputs": [],
   "source": []
  }
 ],
 "metadata": {
  "kernelspec": {
   "display_name": "Python 3",
   "language": "python",
   "name": "python3"
  },
  "language_info": {
   "codemirror_mode": {
    "name": "ipython",
    "version": 3
   },
   "file_extension": ".py",
   "mimetype": "text/x-python",
   "name": "python",
   "nbconvert_exporter": "python",
   "pygments_lexer": "ipython3",
   "version": "3.8.5"
  }
 },
 "nbformat": 4,
 "nbformat_minor": 4
}
