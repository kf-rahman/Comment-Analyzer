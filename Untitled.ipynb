{
 "cells": [
  {
   "cell_type": "code",
   "execution_count": 40,
   "metadata": {},
   "outputs": [
    {
     "name": "stdout",
     "output_type": "stream",
     "text": [
      "31\n"
     ]
    }
   ],
   "source": [
    "L = [5, 6 ,7]\n",
    "M = L\n",
    "N = M\n",
    "M = N[1:]\n",
    "L[0] = 3\n",
    "M[0] = L[0] + L[-1]\n",
    "L.append(3)\n",
    "L.extend([2,3])\n",
    "L.append([1,2])\n",
    "N[1] = N[-2] + M[0]\n",
    "print(sum(L[:-1]))"
   ]
  },
  {
   "cell_type": "raw",
   "metadata": {},
   "source": [
    "\n"
   ]
  },
  {
   "cell_type": "code",
   "execution_count": 15,
   "metadata": {},
   "outputs": [],
   "source": [
    "\n",
    "def star_with(n,l):\n",
    "    if len(n) == 0:\n",
    "        return 0\n",
    "    else:\n",
    "        if n[0].startswith(l) == True:\n",
    "            n.pop(0)\n",
    "            return 1 + star_with(n,l)\n",
    "        else:\n",
    "            n.pop(0)\n",
    "            return 0 + star_with(n,l)\n",
    "\n",
    "        "
   ]
  },
  {
   "cell_type": "code",
   "execution_count": 16,
   "metadata": {},
   "outputs": [
    {
     "name": "stdout",
     "output_type": "stream",
     "text": [
      "3\n"
     ]
    }
   ],
   "source": [
    "print(star_with(['banana', 'bar', \n",
    "                  'blast', 'bag', 'apple', 'zoo'], 'ba'))"
   ]
  },
  {
   "cell_type": "code",
   "execution_count": 23,
   "metadata": {},
   "outputs": [
    {
     "name": "stdout",
     "output_type": "stream",
     "text": [
      "['a', 'cba']\n"
     ]
    }
   ],
   "source": [
    "def rev_strings(los):\n",
    "    reverse_order(los)\n",
    "    return rev_list\n",
    "rev_list = []\n",
    "def reverse_order(los):\n",
    "    if len(los) ==0:\n",
    "        return rev_list\n",
    "    else:\n",
    "        if len(los[0]) == 1:\n",
    "          rev_list.append(los[0])\n",
    "          los.pop(0)\n",
    "          reverse_order(los)\n",
    "        elif len(los[0])>1:\n",
    "          word = los[0]\n",
    "          reverse_word = word[::-1]\n",
    "          rev_list.append(reverse_word)\n",
    "          los.pop(0)\n",
    "          return reverse_order(los)\n",
    "      \n",
    "print(rev_strings(['a','abc']))"
   ]
  },
  {
   "cell_type": "code",
   "execution_count": null,
   "metadata": {},
   "outputs": [],
   "source": []
  }
 ],
 "metadata": {
  "kernelspec": {
   "display_name": "Python 3",
   "language": "python",
   "name": "python3"
  },
  "language_info": {
   "codemirror_mode": {
    "name": "ipython",
    "version": 3
   },
   "file_extension": ".py",
   "mimetype": "text/x-python",
   "name": "python",
   "nbconvert_exporter": "python",
   "pygments_lexer": "ipython3",
   "version": "3.8.5"
  }
 },
 "nbformat": 4,
 "nbformat_minor": 4
}
